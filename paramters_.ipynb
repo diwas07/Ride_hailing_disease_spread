{
 "cells": [
  {
   "cell_type": "code",
   "execution_count": 3,
   "metadata": {},
   "outputs": [],
   "source": [
    "import numpy as np"
   ]
  },
  {
   "cell_type": "code",
   "execution_count": 4,
   "metadata": {},
   "outputs": [],
   "source": [
    "        \n",
    "#%% Parameters\n",
    "beta = 0.0000003125 # Transmission rate due to documented infected\n",
    "mu = 0.1 #The factor by which  the transmission rate of undocumented people reduces\n",
    "eta = 0.4 #The fraction of people who  become documented infected from exposed\n",
    "\n",
    "delta = 0.2\n",
    "gamma = 0.01 # Recovery rate\n",
    "num_susceptible = 3_200_000\n",
    "num_exposed = 10_000\n",
    "num_undocumented = 500\n",
    "num_documented = 200\n",
    "num_immune = 0\n",
    "simulation_time = 100\n",
    "#fraction_uber = 1 #Fraction of the total population that uses uber to move\n",
    "#INIITIAL WAS 0.5\n",
    "population_size = num_susceptible + num_exposed + num_undocumented + \\\n",
    "    num_documented + num_immune\n",
    "\n",
    "num_time_periods = 24# Time periods per day\n",
    "time_period_lenght = 60# Minutes in a time period\n",
    "average_trip_length = 15#Minutes\n",
    "num_uber_divers = 50_000\n",
    "#DOES NUMBER OF UBER DRIVER EQUAL TO THE NUMBER OF UBERS?\n",
    "num_periods_decay = 4 # Number of time periods that the virus survives in the vehicle"
   ]
  },
  {
   "cell_type": "code",
   "execution_count": null,
   "metadata": {},
   "outputs": [],
   "source": [
    "\n"
   ]
  }
 ],
 "metadata": {
  "kernelspec": {
   "display_name": "Python 3",
   "language": "python",
   "name": "python3"
  },
  "language_info": {
   "codemirror_mode": {
    "name": "ipython",
    "version": 3
   },
   "file_extension": ".py",
   "mimetype": "text/x-python",
   "name": "python",
   "nbconvert_exporter": "python",
   "pygments_lexer": "ipython3",
   "version": "3.7.6"
  }
 },
 "nbformat": 4,
 "nbformat_minor": 4
}
