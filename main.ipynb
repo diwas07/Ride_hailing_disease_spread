{
 "cells": [
  {
   "cell_type": "code",
   "execution_count": 1,
   "metadata": {},
   "outputs": [],
   "source": [
    "import numpy as np\n",
    "from ipynb.fs.full.paramters_ import *\n",
    "from ipynb.fs.full.class_functions import *\n",
    "from ipynb.fs.full.functions_ import *\n",
    "import matplotlib.pyplot as plt"
   ]
  },
  {
   "cell_type": "code",
   "execution_count": 2,
   "metadata": {},
   "outputs": [],
   "source": [
    "def simulate_disease_spread():\n",
    "    counter = []        \n",
    "\n",
    "    #%% Objects\n",
    "    city = Zone(beta, mu, eta, delta, gamma, num_susceptible, num_exposed, \n",
    "                num_undocumented, num_documented, num_immune)\n",
    "\n",
    "    population_per_compartment = np.array([city.num_susceptible, \n",
    "                                           city.num_exposed, \n",
    "                                           city.num_undocumented, \n",
    "                                           city.num_documented, \n",
    "                                           city.num_immune])\n",
    "\n",
    "    uber_divers_compartment = population_per_compartment/city.population*num_uber_divers\n",
    "    uber_divers_compartment = uber_divers_compartment.astype(int)\n",
    "    driver_compartment = uber_divers_compartment[0]*[[1,0,0,0,0]]+\\\n",
    "                         uber_divers_compartment[1]*[[0,1,0,0,0]]+\\\n",
    "                         uber_divers_compartment[2]*[[0,0,1,0,0]]+\\\n",
    "                         uber_divers_compartment[3]*[[0,0,0,1,0]]+\\\n",
    "                         uber_divers_compartment[4]*[[0,0,0,0,1]]\n",
    "\n",
    "    uber_drivers = [Driver(driver_compartment[i]) for i in range(len(driver_compartment))]\n",
    "    uber_vehicles = [Uber(num_periods_decay, uber_driver) \n",
    "                     for uber_driver in uber_drivers]\n",
    "\n",
    "    #%% Main loop\n",
    "\n",
    "    for day in range(simulation_time):\n",
    "#         print('day:', day)\n",
    "        fract=[1, 1]\n",
    "        uber_divers_compartment = get_uber_per_compartment(uber_vehicles)\n",
    "        travel_distribution_compartment = \\\n",
    "            get_travel_info(city, fract)\n",
    "        num_travels_per_hour = travel_distribution_compartment.sum(axis=0)\n",
    "        pass_exposed = 0\n",
    "        for period in range(num_time_periods):\n",
    "            free_uber = get_free_uber(uber_vehicles)\n",
    "            num_free_uber = len(free_uber)\n",
    "            if num_free_uber > num_travels_per_hour[period]:\n",
    "                new_ubers_in_service = np.random.choice(\n",
    "                    free_uber, num_travels_per_hour[period])\n",
    "                new_exposed,passenger_exposed = assign_new_ubers(new_ubers_in_service, \n",
    "                                 travel_distribution_compartment[:,period])\n",
    "                pass_exposed += passenger_exposed\n",
    "\n",
    "            else:\n",
    "                new_exposed,passenger_exposed = assign_new_ubers(new_ubers_in_service, \n",
    "                                 travel_distribution_compartment[:,period])\n",
    "                pass_exposed +=passenger_exposed\n",
    "\n",
    "            [vehicle.tic() for vehicle in uber_vehicles]\n",
    "        counter.append(pass_exposed)    \n",
    "        city.update_infection(pass_exposed)\n",
    "        #city.update_infection(new_exposed)\n",
    "    zonewise_data = np.array(city.memory)\n",
    "    return(zonewise_data,fract)"
   ]
  },
  {
   "cell_type": "code",
   "execution_count": 3,
   "metadata": {},
   "outputs": [],
   "source": [
    "def disease_spread_graph(zone_data,fract):\n",
    "    plt.plot(zone_data[:,0],label = 'Susceptible')\n",
    "    plt.plot(zone_data[:,1],label = 'Exposed')\n",
    "    plt.plot(zone_data[:,2],label = 'Undocumented')\n",
    "    plt.plot(zone_data[:,3],label = 'Documented')\n",
    "    plt.plot(zone_data[:,4],label = 'Immune/Recovered')\n",
    "    plt.xlabel('Day')\n",
    "    plt.ylabel('Number of people')\n",
    "    plt.title('Disease progression: fract = {}'.format(fract))\n",
    "    plt.legend()\n",
    "    plt.ylim((0,5000000))\n",
    "    plt.show()"
   ]
  },
  {
   "cell_type": "code",
   "execution_count": null,
   "metadata": {},
   "outputs": [],
   "source": []
  }
 ],
 "metadata": {
  "kernelspec": {
   "display_name": "Python 3",
   "language": "python",
   "name": "python3"
  },
  "language_info": {
   "codemirror_mode": {
    "name": "ipython",
    "version": 3
   },
   "file_extension": ".py",
   "mimetype": "text/x-python",
   "name": "python",
   "nbconvert_exporter": "python",
   "pygments_lexer": "ipython3",
   "version": "3.7.6"
  }
 },
 "nbformat": 4,
 "nbformat_minor": 4
}
